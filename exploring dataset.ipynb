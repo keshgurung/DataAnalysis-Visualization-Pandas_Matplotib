{
 "cells": [
  {
   "cell_type": "markdown",
   "id": "95993f6e",
   "metadata": {},
   "source": [
    "## Overview of the dataframe\n"
   ]
  },
  {
   "cell_type": "code",
   "execution_count": 42,
   "id": "6d6b9fcf",
   "metadata": {},
   "outputs": [
    {
     "data": {
      "text/html": [
       "<div>\n",
       "<style scoped>\n",
       "    .dataframe tbody tr th:only-of-type {\n",
       "        vertical-align: middle;\n",
       "    }\n",
       "\n",
       "    .dataframe tbody tr th {\n",
       "        vertical-align: top;\n",
       "    }\n",
       "\n",
       "    .dataframe thead th {\n",
       "        text-align: right;\n",
       "    }\n",
       "</style>\n",
       "<table border=\"1\" class=\"dataframe\">\n",
       "  <thead>\n",
       "    <tr style=\"text-align: right;\">\n",
       "      <th></th>\n",
       "      <th>Course Name</th>\n",
       "      <th>Timestamp</th>\n",
       "      <th>Rating</th>\n",
       "      <th>Comment</th>\n",
       "    </tr>\n",
       "  </thead>\n",
       "  <tbody>\n",
       "    <tr>\n",
       "      <th>0</th>\n",
       "      <td>The Python Mega Course: Build 10 Real World Ap...</td>\n",
       "      <td>2021-04-02 06:25:52+00:00</td>\n",
       "      <td>4.0</td>\n",
       "      <td>NaN</td>\n",
       "    </tr>\n",
       "    <tr>\n",
       "      <th>1</th>\n",
       "      <td>The Python Mega Course: Build 10 Real World Ap...</td>\n",
       "      <td>2021-04-02 05:12:34+00:00</td>\n",
       "      <td>4.0</td>\n",
       "      <td>NaN</td>\n",
       "    </tr>\n",
       "    <tr>\n",
       "      <th>2</th>\n",
       "      <td>The Python Mega Course: Build 10 Real World Ap...</td>\n",
       "      <td>2021-04-02 05:11:03+00:00</td>\n",
       "      <td>4.0</td>\n",
       "      <td>NaN</td>\n",
       "    </tr>\n",
       "    <tr>\n",
       "      <th>3</th>\n",
       "      <td>The Python Mega Course: Build 10 Real World Ap...</td>\n",
       "      <td>2021-04-02 03:33:24+00:00</td>\n",
       "      <td>5.0</td>\n",
       "      <td>NaN</td>\n",
       "    </tr>\n",
       "    <tr>\n",
       "      <th>4</th>\n",
       "      <td>The Python Mega Course: Build 10 Real World Ap...</td>\n",
       "      <td>2021-04-02 03:31:49+00:00</td>\n",
       "      <td>4.5</td>\n",
       "      <td>NaN</td>\n",
       "    </tr>\n",
       "  </tbody>\n",
       "</table>\n",
       "</div>"
      ],
      "text/plain": [
       "                                         Course Name  \\\n",
       "0  The Python Mega Course: Build 10 Real World Ap...   \n",
       "1  The Python Mega Course: Build 10 Real World Ap...   \n",
       "2  The Python Mega Course: Build 10 Real World Ap...   \n",
       "3  The Python Mega Course: Build 10 Real World Ap...   \n",
       "4  The Python Mega Course: Build 10 Real World Ap...   \n",
       "\n",
       "                  Timestamp  Rating Comment  \n",
       "0 2021-04-02 06:25:52+00:00     4.0     NaN  \n",
       "1 2021-04-02 05:12:34+00:00     4.0     NaN  \n",
       "2 2021-04-02 05:11:03+00:00     4.0     NaN  \n",
       "3 2021-04-02 03:33:24+00:00     5.0     NaN  \n",
       "4 2021-04-02 03:31:49+00:00     4.5     NaN  "
      ]
     },
     "execution_count": 42,
     "metadata": {},
     "output_type": "execute_result"
    }
   ],
   "source": [
    "import pandas\n",
    "from datetime import datetime\n",
    "data=pandas.read_csv('reviews.csv', parse_dates=['Timestamp']) \n",
    "from pytz import utc\n",
    "#this will treat timestamp as date \n",
    "data.head() #gives first five rows only"
   ]
  },
  {
   "cell_type": "code",
   "execution_count": 3,
   "id": "0820640e",
   "metadata": {},
   "outputs": [
    {
     "data": {
      "text/plain": [
       "(45000, 4)"
      ]
     },
     "execution_count": 3,
     "metadata": {},
     "output_type": "execute_result"
    }
   ],
   "source": [
    "data.shape\n",
    "#gives no. of rows and columns"
   ]
  },
  {
   "cell_type": "code",
   "execution_count": 4,
   "id": "d45b01d7",
   "metadata": {},
   "outputs": [
    {
     "data": {
      "text/plain": [
       "Index(['Course Name', 'Timestamp', 'Rating', 'Comment'], dtype='object')"
      ]
     },
     "execution_count": 4,
     "metadata": {},
     "output_type": "execute_result"
    }
   ],
   "source": [
    "data.columns"
   ]
  },
  {
   "cell_type": "code",
   "execution_count": 5,
   "id": "527a8ec4",
   "metadata": {},
   "outputs": [
    {
     "data": {
      "text/plain": [
       "array([[<AxesSubplot:title={'center':'Rating'}>]], dtype=object)"
      ]
     },
     "execution_count": 5,
     "metadata": {},
     "output_type": "execute_result"
    },
    {
     "data": {
      "image/png": "[encoded data removed]",
      "text/plain": [
       "<Figure size 432x288 with 1 Axes>"
      ]
     },
     "metadata": {
      "needs_background": "light"
     },
     "output_type": "display_data"
    }
   ],
   "source": [
    "data.hist('Rating')"
   ]
  },
  {
   "cell_type": "code",
   "execution_count": 6,
   "id": "5b364f46",
   "metadata": {},
   "outputs": [
    {
     "data": {
      "text/html": [
       "<div>\n",
       "<style scoped>\n",
       "    .dataframe tbody tr th:only-of-type {\n",
       "        vertical-align: middle;\n",
       "    }\n",
       "\n",
       "    .dataframe tbody tr th {\n",
       "        vertical-align: top;\n",
       "    }\n",
       "\n",
       "    .dataframe thead th {\n",
       "        text-align: right;\n",
       "    }\n",
       "</style>\n",
       "<table border=\"1\" class=\"dataframe\">\n",
       "  <thead>\n",
       "    <tr style=\"text-align: right;\">\n",
       "      <th></th>\n",
       "      <th>Course Name</th>\n",
       "      <th>Timestamp</th>\n",
       "      <th>Rating</th>\n",
       "      <th>Comment</th>\n",
       "    </tr>\n",
       "  </thead>\n",
       "  <tbody>\n",
       "    <tr>\n",
       "      <th>0</th>\n",
       "      <td>The Python Mega Course: Build 10 Real World Ap...</td>\n",
       "      <td>2021-04-02 06:25:52+00:00</td>\n",
       "      <td>4.0</td>\n",
       "      <td>NaN</td>\n",
       "    </tr>\n",
       "    <tr>\n",
       "      <th>1</th>\n",
       "      <td>The Python Mega Course: Build 10 Real World Ap...</td>\n",
       "      <td>2021-04-02 05:12:34+00:00</td>\n",
       "      <td>4.0</td>\n",
       "      <td>NaN</td>\n",
       "    </tr>\n",
       "    <tr>\n",
       "      <th>2</th>\n",
       "      <td>The Python Mega Course: Build 10 Real World Ap...</td>\n",
       "      <td>2021-04-02 05:11:03+00:00</td>\n",
       "      <td>4.0</td>\n",
       "      <td>NaN</td>\n",
       "    </tr>\n",
       "    <tr>\n",
       "      <th>3</th>\n",
       "      <td>The Python Mega Course: Build 10 Real World Ap...</td>\n",
       "      <td>2021-04-02 03:33:24+00:00</td>\n",
       "      <td>5.0</td>\n",
       "      <td>NaN</td>\n",
       "    </tr>\n",
       "    <tr>\n",
       "      <th>4</th>\n",
       "      <td>The Python Mega Course: Build 10 Real World Ap...</td>\n",
       "      <td>2021-04-02 03:31:49+00:00</td>\n",
       "      <td>4.5</td>\n",
       "      <td>NaN</td>\n",
       "    </tr>\n",
       "    <tr>\n",
       "      <th>...</th>\n",
       "      <td>...</td>\n",
       "      <td>...</td>\n",
       "      <td>...</td>\n",
       "      <td>...</td>\n",
       "    </tr>\n",
       "    <tr>\n",
       "      <th>44995</th>\n",
       "      <td>Python for Beginners with Examples</td>\n",
       "      <td>2018-01-01 01:11:26+00:00</td>\n",
       "      <td>4.0</td>\n",
       "      <td>NaN</td>\n",
       "    </tr>\n",
       "    <tr>\n",
       "      <th>44996</th>\n",
       "      <td>The Python Mega Course: Build 10 Real World Ap...</td>\n",
       "      <td>2018-01-01 01:09:56+00:00</td>\n",
       "      <td>5.0</td>\n",
       "      <td>NaN</td>\n",
       "    </tr>\n",
       "    <tr>\n",
       "      <th>44997</th>\n",
       "      <td>The Python Mega Course: Build 10 Real World Ap...</td>\n",
       "      <td>2018-01-01 01:08:11+00:00</td>\n",
       "      <td>5.0</td>\n",
       "      <td>NaN</td>\n",
       "    </tr>\n",
       "    <tr>\n",
       "      <th>44998</th>\n",
       "      <td>Python for Beginners with Examples</td>\n",
       "      <td>2018-01-01 01:05:26+00:00</td>\n",
       "      <td>5.0</td>\n",
       "      <td>NaN</td>\n",
       "    </tr>\n",
       "    <tr>\n",
       "      <th>44999</th>\n",
       "      <td>The Python Mega Course: Build 10 Real World Ap...</td>\n",
       "      <td>2018-01-01 01:01:16+00:00</td>\n",
       "      <td>5.0</td>\n",
       "      <td>NaN</td>\n",
       "    </tr>\n",
       "  </tbody>\n",
       "</table>\n",
       "<p>45000 rows × 4 columns</p>\n",
       "</div>"
      ],
      "text/plain": [
       "                                             Course Name  \\\n",
       "0      The Python Mega Course: Build 10 Real World Ap...   \n",
       "1      The Python Mega Course: Build 10 Real World Ap...   \n",
       "2      The Python Mega Course: Build 10 Real World Ap...   \n",
       "3      The Python Mega Course: Build 10 Real World Ap...   \n",
       "4      The Python Mega Course: Build 10 Real World Ap...   \n",
       "...                                                  ...   \n",
       "44995                 Python for Beginners with Examples   \n",
       "44996  The Python Mega Course: Build 10 Real World Ap...   \n",
       "44997  The Python Mega Course: Build 10 Real World Ap...   \n",
       "44998                 Python for Beginners with Examples   \n",
       "44999  The Python Mega Course: Build 10 Real World Ap...   \n",
       "\n",
       "                       Timestamp  Rating Comment  \n",
       "0      2021-04-02 06:25:52+00:00     4.0     NaN  \n",
       "1      2021-04-02 05:12:34+00:00     4.0     NaN  \n",
       "2      2021-04-02 05:11:03+00:00     4.0     NaN  \n",
       "3      2021-04-02 03:33:24+00:00     5.0     NaN  \n",
       "4      2021-04-02 03:31:49+00:00     4.5     NaN  \n",
       "...                          ...     ...     ...  \n",
       "44995  2018-01-01 01:11:26+00:00     4.0     NaN  \n",
       "44996  2018-01-01 01:09:56+00:00     5.0     NaN  \n",
       "44997  2018-01-01 01:08:11+00:00     5.0     NaN  \n",
       "44998  2018-01-01 01:05:26+00:00     5.0     NaN  \n",
       "44999  2018-01-01 01:01:16+00:00     5.0     NaN  \n",
       "\n",
       "[45000 rows x 4 columns]"
      ]
     },
     "execution_count": 6,
     "metadata": {},
     "output_type": "execute_result"
    }
   ],
   "source": []
  },
  {
   "cell_type": "markdown",
   "id": "477411b3",
   "metadata": {},
   "source": [
    "## Selecting data from the dataframe\n",
    "\n",
    "### Select column\n"
   ]
  },
  {
   "cell_type": "code",
   "execution_count": 7,
   "id": "157b09bc",
   "metadata": {},
   "outputs": [
    {
     "data": {
      "text/plain": [
       "0        4.0\n",
       "1        4.0\n",
       "2        4.0\n",
       "3        5.0\n",
       "4        4.5\n",
       "        ... \n",
       "44995    4.0\n",
       "44996    5.0\n",
       "44997    5.0\n",
       "44998    5.0\n",
       "44999    5.0\n",
       "Name: Rating, Length: 45000, dtype: float64"
      ]
     },
     "execution_count": 7,
     "metadata": {},
     "output_type": "execute_result"
    }
   ],
   "source": [
    "data['Rating']\n",
    "#this is a series, represent single column, more is called dataframe as in below "
   ]
  },
  {
   "cell_type": "markdown",
   "id": "d9435990",
   "metadata": {},
   "source": [
    "### Select multiple columns"
   ]
  },
  {
   "cell_type": "code",
   "execution_count": 9,
   "id": "0d77ad52",
   "metadata": {},
   "outputs": [
    {
     "data": {
      "text/html": [
       "<div>\n",
       "<style scoped>\n",
       "    .dataframe tbody tr th:only-of-type {\n",
       "        vertical-align: middle;\n",
       "    }\n",
       "\n",
       "    .dataframe tbody tr th {\n",
       "        vertical-align: top;\n",
       "    }\n",
       "\n",
       "    .dataframe thead th {\n",
       "        text-align: right;\n",
       "    }\n",
       "</style>\n",
       "<table border=\"1\" class=\"dataframe\">\n",
       "  <thead>\n",
       "    <tr style=\"text-align: right;\">\n",
       "      <th></th>\n",
       "      <th>Course Name</th>\n",
       "      <th>Rating</th>\n",
       "    </tr>\n",
       "  </thead>\n",
       "  <tbody>\n",
       "    <tr>\n",
       "      <th>0</th>\n",
       "      <td>The Python Mega Course: Build 10 Real World Ap...</td>\n",
       "      <td>4.0</td>\n",
       "    </tr>\n",
       "    <tr>\n",
       "      <th>1</th>\n",
       "      <td>The Python Mega Course: Build 10 Real World Ap...</td>\n",
       "      <td>4.0</td>\n",
       "    </tr>\n",
       "    <tr>\n",
       "      <th>2</th>\n",
       "      <td>The Python Mega Course: Build 10 Real World Ap...</td>\n",
       "      <td>4.0</td>\n",
       "    </tr>\n",
       "    <tr>\n",
       "      <th>3</th>\n",
       "      <td>The Python Mega Course: Build 10 Real World Ap...</td>\n",
       "      <td>5.0</td>\n",
       "    </tr>\n",
       "    <tr>\n",
       "      <th>4</th>\n",
       "      <td>The Python Mega Course: Build 10 Real World Ap...</td>\n",
       "      <td>4.5</td>\n",
       "    </tr>\n",
       "    <tr>\n",
       "      <th>...</th>\n",
       "      <td>...</td>\n",
       "      <td>...</td>\n",
       "    </tr>\n",
       "    <tr>\n",
       "      <th>44995</th>\n",
       "      <td>Python for Beginners with Examples</td>\n",
       "      <td>4.0</td>\n",
       "    </tr>\n",
       "    <tr>\n",
       "      <th>44996</th>\n",
       "      <td>The Python Mega Course: Build 10 Real World Ap...</td>\n",
       "      <td>5.0</td>\n",
       "    </tr>\n",
       "    <tr>\n",
       "      <th>44997</th>\n",
       "      <td>The Python Mega Course: Build 10 Real World Ap...</td>\n",
       "      <td>5.0</td>\n",
       "    </tr>\n",
       "    <tr>\n",
       "      <th>44998</th>\n",
       "      <td>Python for Beginners with Examples</td>\n",
       "      <td>5.0</td>\n",
       "    </tr>\n",
       "    <tr>\n",
       "      <th>44999</th>\n",
       "      <td>The Python Mega Course: Build 10 Real World Ap...</td>\n",
       "      <td>5.0</td>\n",
       "    </tr>\n",
       "  </tbody>\n",
       "</table>\n",
       "<p>45000 rows × 2 columns</p>\n",
       "</div>"
      ],
      "text/plain": [
       "                                             Course Name  Rating\n",
       "0      The Python Mega Course: Build 10 Real World Ap...     4.0\n",
       "1      The Python Mega Course: Build 10 Real World Ap...     4.0\n",
       "2      The Python Mega Course: Build 10 Real World Ap...     4.0\n",
       "3      The Python Mega Course: Build 10 Real World Ap...     5.0\n",
       "4      The Python Mega Course: Build 10 Real World Ap...     4.5\n",
       "...                                                  ...     ...\n",
       "44995                 Python for Beginners with Examples     4.0\n",
       "44996  The Python Mega Course: Build 10 Real World Ap...     5.0\n",
       "44997  The Python Mega Course: Build 10 Real World Ap...     5.0\n",
       "44998                 Python for Beginners with Examples     5.0\n",
       "44999  The Python Mega Course: Build 10 Real World Ap...     5.0\n",
       "\n",
       "[45000 rows x 2 columns]"
      ]
     },
     "execution_count": 9,
     "metadata": {},
     "output_type": "execute_result"
    }
   ],
   "source": [
    "data[['Course Name', 'Rating']]\n",
    "#this is a dataframe"
   ]
  },
  {
   "cell_type": "markdown",
   "id": "4723f6a8",
   "metadata": {},
   "source": [
    "### Selecting a row\n"
   ]
  },
  {
   "cell_type": "code",
   "execution_count": 11,
   "id": "05ac1d5a",
   "metadata": {},
   "outputs": [
    {
     "data": {
      "text/plain": [
       "Course Name    The Python Mega Course: Build 10 Real World Ap...\n",
       "Timestamp                              2021-04-02 03:33:24+00:00\n",
       "Rating                                                       5.0\n",
       "Comment                                                      NaN\n",
       "Name: 3, dtype: object"
      ]
     },
     "execution_count": 11,
     "metadata": {},
     "output_type": "execute_result"
    }
   ],
   "source": [
    "data.iloc[3]\n",
    "#type is series as in single column "
   ]
  },
  {
   "cell_type": "markdown",
   "id": "b21eea56",
   "metadata": {},
   "source": [
    "### Selecting multiple rows"
   ]
  },
  {
   "cell_type": "code",
   "execution_count": 12,
   "id": "d9a54de6",
   "metadata": {},
   "outputs": [
    {
     "data": {
      "text/html": [
       "<div>\n",
       "<style scoped>\n",
       "    .dataframe tbody tr th:only-of-type {\n",
       "        vertical-align: middle;\n",
       "    }\n",
       "\n",
       "    .dataframe tbody tr th {\n",
       "        vertical-align: top;\n",
       "    }\n",
       "\n",
       "    .dataframe thead th {\n",
       "        text-align: right;\n",
       "    }\n",
       "</style>\n",
       "<table border=\"1\" class=\"dataframe\">\n",
       "  <thead>\n",
       "    <tr style=\"text-align: right;\">\n",
       "      <th></th>\n",
       "      <th>Course Name</th>\n",
       "      <th>Timestamp</th>\n",
       "      <th>Rating</th>\n",
       "      <th>Comment</th>\n",
       "    </tr>\n",
       "  </thead>\n",
       "  <tbody>\n",
       "    <tr>\n",
       "      <th>1</th>\n",
       "      <td>The Python Mega Course: Build 10 Real World Ap...</td>\n",
       "      <td>2021-04-02 05:12:34+00:00</td>\n",
       "      <td>4.0</td>\n",
       "      <td>NaN</td>\n",
       "    </tr>\n",
       "    <tr>\n",
       "      <th>2</th>\n",
       "      <td>The Python Mega Course: Build 10 Real World Ap...</td>\n",
       "      <td>2021-04-02 05:11:03+00:00</td>\n",
       "      <td>4.0</td>\n",
       "      <td>NaN</td>\n",
       "    </tr>\n",
       "  </tbody>\n",
       "</table>\n",
       "</div>"
      ],
      "text/plain": [
       "                                         Course Name  \\\n",
       "1  The Python Mega Course: Build 10 Real World Ap...   \n",
       "2  The Python Mega Course: Build 10 Real World Ap...   \n",
       "\n",
       "                   Timestamp  Rating Comment  \n",
       "1  2021-04-02 05:12:34+00:00     4.0     NaN  \n",
       "2  2021-04-02 05:11:03+00:00     4.0     NaN  "
      ]
     },
     "execution_count": 12,
     "metadata": {},
     "output_type": "execute_result"
    }
   ],
   "source": [
    "data.iloc[1:3]\n",
    "#this is a dataframe"
   ]
  },
  {
   "cell_type": "code",
   "execution_count": 13,
   "id": "4aacdee2",
   "metadata": {},
   "outputs": [
    {
     "data": {
      "text/html": [
       "<div>\n",
       "<style scoped>\n",
       "    .dataframe tbody tr th:only-of-type {\n",
       "        vertical-align: middle;\n",
       "    }\n",
       "\n",
       "    .dataframe tbody tr th {\n",
       "        vertical-align: top;\n",
       "    }\n",
       "\n",
       "    .dataframe thead th {\n",
       "        text-align: right;\n",
       "    }\n",
       "</style>\n",
       "<table border=\"1\" class=\"dataframe\">\n",
       "  <thead>\n",
       "    <tr style=\"text-align: right;\">\n",
       "      <th></th>\n",
       "      <th>Rating</th>\n",
       "      <th>Comment</th>\n",
       "    </tr>\n",
       "  </thead>\n",
       "  <tbody>\n",
       "    <tr>\n",
       "      <th>1</th>\n",
       "      <td>4.0</td>\n",
       "      <td>NaN</td>\n",
       "    </tr>\n",
       "    <tr>\n",
       "      <th>2</th>\n",
       "      <td>4.0</td>\n",
       "      <td>NaN</td>\n",
       "    </tr>\n",
       "  </tbody>\n",
       "</table>\n",
       "</div>"
      ],
      "text/plain": [
       "   Rating Comment\n",
       "1     4.0     NaN\n",
       "2     4.0     NaN"
      ]
     },
     "execution_count": 13,
     "metadata": {},
     "output_type": "execute_result"
    }
   ],
   "source": [
    "data.iloc[1:3, 2:4]\n",
    "#this will select a particular column too, 2:4 is rating and comment column"
   ]
  },
  {
   "cell_type": "code",
   "execution_count": 14,
   "id": "23dc7c60",
   "metadata": {},
   "outputs": [
    {
     "data": {
      "text/html": [
       "<div>\n",
       "<style scoped>\n",
       "    .dataframe tbody tr th:only-of-type {\n",
       "        vertical-align: middle;\n",
       "    }\n",
       "\n",
       "    .dataframe tbody tr th {\n",
       "        vertical-align: top;\n",
       "    }\n",
       "\n",
       "    .dataframe thead th {\n",
       "        text-align: right;\n",
       "    }\n",
       "</style>\n",
       "<table border=\"1\" class=\"dataframe\">\n",
       "  <thead>\n",
       "    <tr style=\"text-align: right;\">\n",
       "      <th></th>\n",
       "      <th>Course Name</th>\n",
       "      <th>Rating</th>\n",
       "    </tr>\n",
       "  </thead>\n",
       "  <tbody>\n",
       "    <tr>\n",
       "      <th>1</th>\n",
       "      <td>The Python Mega Course: Build 10 Real World Ap...</td>\n",
       "      <td>4.0</td>\n",
       "    </tr>\n",
       "    <tr>\n",
       "      <th>2</th>\n",
       "      <td>The Python Mega Course: Build 10 Real World Ap...</td>\n",
       "      <td>4.0</td>\n",
       "    </tr>\n",
       "  </tbody>\n",
       "</table>\n",
       "</div>"
      ],
      "text/plain": [
       "                                         Course Name  Rating\n",
       "1  The Python Mega Course: Build 10 Real World Ap...     4.0\n",
       "2  The Python Mega Course: Build 10 Real World Ap...     4.0"
      ]
     },
     "execution_count": 14,
     "metadata": {},
     "output_type": "execute_result"
    }
   ],
   "source": [
    "data[['Course Name','Rating']].iloc[1:3]\n",
    "#same as above"
   ]
  },
  {
   "cell_type": "markdown",
   "id": "2b5a4ba1",
   "metadata": {},
   "source": [
    "### Selecting a cell\n"
   ]
  },
  {
   "cell_type": "code",
   "execution_count": 16,
   "id": "0c01d943",
   "metadata": {},
   "outputs": [
    {
     "data": {
      "text/plain": [
       "1    2021-04-02 05:12:34+00:00\n",
       "2    2021-04-02 05:11:03+00:00\n",
       "Name: Timestamp, dtype: object"
      ]
     },
     "execution_count": 16,
     "metadata": {},
     "output_type": "execute_result"
    }
   ],
   "source": [
    "data['Timestamp'].iloc[1:3]"
   ]
  },
  {
   "cell_type": "code",
   "execution_count": 17,
   "id": "b2e124b0",
   "metadata": {},
   "outputs": [
    {
     "data": {
      "text/plain": [
       "4.0"
      ]
     },
     "execution_count": 17,
     "metadata": {},
     "output_type": "execute_result"
    }
   ],
   "source": [
    "data.at[2,'Rating']\n",
    "#also same as 14."
   ]
  },
  {
   "cell_type": "markdown",
   "id": "4f2a2502",
   "metadata": {},
   "source": [
    "### 3. Filtering the dataset\n",
    "\n",
    "#### One Condition"
   ]
  },
  {
   "cell_type": "code",
   "execution_count": 26,
   "id": "827a3036",
   "metadata": {},
   "outputs": [
    {
     "data": {
      "text/plain": [
       "3        5.0\n",
       "4        4.5\n",
       "5        4.5\n",
       "6        4.5\n",
       "7        5.0\n",
       "        ... \n",
       "44994    5.0\n",
       "44996    5.0\n",
       "44997    5.0\n",
       "44998    5.0\n",
       "44999    5.0\n",
       "Name: Rating, Length: 29758, dtype: float64"
      ]
     },
     "execution_count": 26,
     "metadata": {},
     "output_type": "execute_result"
    }
   ],
   "source": [
    "d2=data[data['Rating'] > 4]\n",
    "d2['Rating']\n",
    "# len(data[data['Rating'] > 4])"
   ]
  },
  {
   "cell_type": "markdown",
   "id": "33e23b02",
   "metadata": {},
   "source": [
    "### Multiple Conditions\n"
   ]
  },
  {
   "cell_type": "code",
   "execution_count": 32,
   "id": "171f5790",
   "metadata": {},
   "outputs": [
    {
     "data": {
      "text/html": [
       "<div>\n",
       "<style scoped>\n",
       "    .dataframe tbody tr th:only-of-type {\n",
       "        vertical-align: middle;\n",
       "    }\n",
       "\n",
       "    .dataframe tbody tr th {\n",
       "        vertical-align: top;\n",
       "    }\n",
       "\n",
       "    .dataframe thead th {\n",
       "        text-align: right;\n",
       "    }\n",
       "</style>\n",
       "<table border=\"1\" class=\"dataframe\">\n",
       "  <thead>\n",
       "    <tr style=\"text-align: right;\">\n",
       "      <th></th>\n",
       "      <th>Course Name</th>\n",
       "      <th>Timestamp</th>\n",
       "      <th>Rating</th>\n",
       "      <th>Comment</th>\n",
       "    </tr>\n",
       "  </thead>\n",
       "  <tbody>\n",
       "    <tr>\n",
       "      <th>31</th>\n",
       "      <td>The Complete Python Course: Build 10 Professio...</td>\n",
       "      <td>2021-04-01 01:32:52+00:00</td>\n",
       "      <td>5.0</td>\n",
       "      <td>NaN</td>\n",
       "    </tr>\n",
       "    <tr>\n",
       "      <th>34</th>\n",
       "      <td>The Complete Python Course: Build 10 Professio...</td>\n",
       "      <td>2021-03-31 22:53:04+00:00</td>\n",
       "      <td>5.0</td>\n",
       "      <td>NaN</td>\n",
       "    </tr>\n",
       "    <tr>\n",
       "      <th>43</th>\n",
       "      <td>The Complete Python Course: Build 10 Professio...</td>\n",
       "      <td>2021-03-31 19:15:25+00:00</td>\n",
       "      <td>5.0</td>\n",
       "      <td>NaN</td>\n",
       "    </tr>\n",
       "    <tr>\n",
       "      <th>45</th>\n",
       "      <td>The Complete Python Course: Build 10 Professio...</td>\n",
       "      <td>2021-03-31 17:23:15+00:00</td>\n",
       "      <td>5.0</td>\n",
       "      <td>NaN</td>\n",
       "    </tr>\n",
       "    <tr>\n",
       "      <th>101</th>\n",
       "      <td>The Complete Python Course: Build 10 Professio...</td>\n",
       "      <td>2021-03-29 21:54:00+00:00</td>\n",
       "      <td>4.5</td>\n",
       "      <td>NaN</td>\n",
       "    </tr>\n",
       "    <tr>\n",
       "      <th>...</th>\n",
       "      <td>...</td>\n",
       "      <td>...</td>\n",
       "      <td>...</td>\n",
       "      <td>...</td>\n",
       "    </tr>\n",
       "    <tr>\n",
       "      <th>2501</th>\n",
       "      <td>The Complete Python Course: Build 10 Professio...</td>\n",
       "      <td>2021-01-14 21:19:44+00:00</td>\n",
       "      <td>4.5</td>\n",
       "      <td>NaN</td>\n",
       "    </tr>\n",
       "    <tr>\n",
       "      <th>2502</th>\n",
       "      <td>The Complete Python Course: Build 10 Professio...</td>\n",
       "      <td>2021-01-14 20:57:14+00:00</td>\n",
       "      <td>5.0</td>\n",
       "      <td>NaN</td>\n",
       "    </tr>\n",
       "    <tr>\n",
       "      <th>2509</th>\n",
       "      <td>The Complete Python Course: Build 10 Professio...</td>\n",
       "      <td>2021-01-14 15:46:18+00:00</td>\n",
       "      <td>5.0</td>\n",
       "      <td>NaN</td>\n",
       "    </tr>\n",
       "    <tr>\n",
       "      <th>2523</th>\n",
       "      <td>The Complete Python Course: Build 10 Professio...</td>\n",
       "      <td>2021-01-13 22:21:14+00:00</td>\n",
       "      <td>5.0</td>\n",
       "      <td>NaN</td>\n",
       "    </tr>\n",
       "    <tr>\n",
       "      <th>2525</th>\n",
       "      <td>The Complete Python Course: Build 10 Professio...</td>\n",
       "      <td>2021-01-13 20:44:02+00:00</td>\n",
       "      <td>5.0</td>\n",
       "      <td>NaN</td>\n",
       "    </tr>\n",
       "  </tbody>\n",
       "</table>\n",
       "<p>351 rows × 4 columns</p>\n",
       "</div>"
      ],
      "text/plain": [
       "                                            Course Name  \\\n",
       "31    The Complete Python Course: Build 10 Professio...   \n",
       "34    The Complete Python Course: Build 10 Professio...   \n",
       "43    The Complete Python Course: Build 10 Professio...   \n",
       "45    The Complete Python Course: Build 10 Professio...   \n",
       "101   The Complete Python Course: Build 10 Professio...   \n",
       "...                                                 ...   \n",
       "2501  The Complete Python Course: Build 10 Professio...   \n",
       "2502  The Complete Python Course: Build 10 Professio...   \n",
       "2509  The Complete Python Course: Build 10 Professio...   \n",
       "2523  The Complete Python Course: Build 10 Professio...   \n",
       "2525  The Complete Python Course: Build 10 Professio...   \n",
       "\n",
       "                      Timestamp  Rating Comment  \n",
       "31    2021-04-01 01:32:52+00:00     5.0     NaN  \n",
       "34    2021-03-31 22:53:04+00:00     5.0     NaN  \n",
       "43    2021-03-31 19:15:25+00:00     5.0     NaN  \n",
       "45    2021-03-31 17:23:15+00:00     5.0     NaN  \n",
       "101   2021-03-29 21:54:00+00:00     4.5     NaN  \n",
       "...                         ...     ...     ...  \n",
       "2501  2021-01-14 21:19:44+00:00     4.5     NaN  \n",
       "2502  2021-01-14 20:57:14+00:00     5.0     NaN  \n",
       "2509  2021-01-14 15:46:18+00:00     5.0     NaN  \n",
       "2523  2021-01-13 22:21:14+00:00     5.0     NaN  \n",
       "2525  2021-01-13 20:44:02+00:00     5.0     NaN  \n",
       "\n",
       "[351 rows x 4 columns]"
      ]
     },
     "execution_count": 32,
     "metadata": {},
     "output_type": "execute_result"
    }
   ],
   "source": [
    "data[(data['Rating'] > 4) & (data['Course Name']=='The Complete Python Course: Build 10 Professional OOP Apps')]"
   ]
  },
  {
   "cell_type": "markdown",
   "id": "7782d323",
   "metadata": {},
   "source": [
    "## 4. Time based Filtering"
   ]
  },
  {
   "cell_type": "code",
   "execution_count": 43,
   "id": "80fbea4c",
   "metadata": {},
   "outputs": [
    {
     "data": {
      "text/html": [
       "<div>\n",
       "<style scoped>\n",
       "    .dataframe tbody tr th:only-of-type {\n",
       "        vertical-align: middle;\n",
       "    }\n",
       "\n",
       "    .dataframe tbody tr th {\n",
       "        vertical-align: top;\n",
       "    }\n",
       "\n",
       "    .dataframe thead th {\n",
       "        text-align: right;\n",
       "    }\n",
       "</style>\n",
       "<table border=\"1\" class=\"dataframe\">\n",
       "  <thead>\n",
       "    <tr style=\"text-align: right;\">\n",
       "      <th></th>\n",
       "      <th>Course Name</th>\n",
       "      <th>Timestamp</th>\n",
       "      <th>Rating</th>\n",
       "      <th>Comment</th>\n",
       "    </tr>\n",
       "  </thead>\n",
       "  <tbody>\n",
       "    <tr>\n",
       "      <th>3065</th>\n",
       "      <td>Interactive Data Visualization with Python and...</td>\n",
       "      <td>2020-12-30 23:28:34+00:00</td>\n",
       "      <td>3.0</td>\n",
       "      <td>NaN</td>\n",
       "    </tr>\n",
       "    <tr>\n",
       "      <th>3066</th>\n",
       "      <td>The Python Mega Course: Build 10 Real World Ap...</td>\n",
       "      <td>2020-12-30 22:59:02+00:00</td>\n",
       "      <td>4.0</td>\n",
       "      <td>NaN</td>\n",
       "    </tr>\n",
       "    <tr>\n",
       "      <th>3067</th>\n",
       "      <td>The Python Mega Course: Build 10 Real World Ap...</td>\n",
       "      <td>2020-12-30 22:40:10+00:00</td>\n",
       "      <td>4.5</td>\n",
       "      <td>NaN</td>\n",
       "    </tr>\n",
       "    <tr>\n",
       "      <th>3068</th>\n",
       "      <td>The Python Mega Course: Build 10 Real World Ap...</td>\n",
       "      <td>2020-12-30 21:56:41+00:00</td>\n",
       "      <td>4.5</td>\n",
       "      <td>NaN</td>\n",
       "    </tr>\n",
       "    <tr>\n",
       "      <th>3069</th>\n",
       "      <td>The Python Mega Course: Build 10 Real World Ap...</td>\n",
       "      <td>2020-12-30 21:14:34+00:00</td>\n",
       "      <td>4.5</td>\n",
       "      <td>NaN</td>\n",
       "    </tr>\n",
       "    <tr>\n",
       "      <th>...</th>\n",
       "      <td>...</td>\n",
       "      <td>...</td>\n",
       "      <td>...</td>\n",
       "      <td>...</td>\n",
       "    </tr>\n",
       "    <tr>\n",
       "      <th>9729</th>\n",
       "      <td>The Python Mega Course: Build 10 Real World Ap...</td>\n",
       "      <td>2020-07-01 03:09:44+00:00</td>\n",
       "      <td>3.5</td>\n",
       "      <td>NaN</td>\n",
       "    </tr>\n",
       "    <tr>\n",
       "      <th>9730</th>\n",
       "      <td>The Python Mega Course: Build 10 Real World Ap...</td>\n",
       "      <td>2020-07-01 03:09:12+00:00</td>\n",
       "      <td>5.0</td>\n",
       "      <td>NaN</td>\n",
       "    </tr>\n",
       "    <tr>\n",
       "      <th>9731</th>\n",
       "      <td>The Python Mega Course: Build 10 Real World Ap...</td>\n",
       "      <td>2020-07-01 02:40:58+00:00</td>\n",
       "      <td>4.0</td>\n",
       "      <td>NaN</td>\n",
       "    </tr>\n",
       "    <tr>\n",
       "      <th>9732</th>\n",
       "      <td>The Python Mega Course: Build 10 Real World Ap...</td>\n",
       "      <td>2020-07-01 02:04:02+00:00</td>\n",
       "      <td>5.0</td>\n",
       "      <td>nice</td>\n",
       "    </tr>\n",
       "    <tr>\n",
       "      <th>9733</th>\n",
       "      <td>The Python Mega Course: Build 10 Real World Ap...</td>\n",
       "      <td>2020-07-01 00:01:34+00:00</td>\n",
       "      <td>2.0</td>\n",
       "      <td>Hard to follow if u have no experience program...</td>\n",
       "    </tr>\n",
       "  </tbody>\n",
       "</table>\n",
       "<p>6669 rows × 4 columns</p>\n",
       "</div>"
      ],
      "text/plain": [
       "                                            Course Name  \\\n",
       "3065  Interactive Data Visualization with Python and...   \n",
       "3066  The Python Mega Course: Build 10 Real World Ap...   \n",
       "3067  The Python Mega Course: Build 10 Real World Ap...   \n",
       "3068  The Python Mega Course: Build 10 Real World Ap...   \n",
       "3069  The Python Mega Course: Build 10 Real World Ap...   \n",
       "...                                                 ...   \n",
       "9729  The Python Mega Course: Build 10 Real World Ap...   \n",
       "9730  The Python Mega Course: Build 10 Real World Ap...   \n",
       "9731  The Python Mega Course: Build 10 Real World Ap...   \n",
       "9732  The Python Mega Course: Build 10 Real World Ap...   \n",
       "9733  The Python Mega Course: Build 10 Real World Ap...   \n",
       "\n",
       "                     Timestamp  Rating  \\\n",
       "3065 2020-12-30 23:28:34+00:00     3.0   \n",
       "3066 2020-12-30 22:59:02+00:00     4.0   \n",
       "3067 2020-12-30 22:40:10+00:00     4.5   \n",
       "3068 2020-12-30 21:56:41+00:00     4.5   \n",
       "3069 2020-12-30 21:14:34+00:00     4.5   \n",
       "...                        ...     ...   \n",
       "9729 2020-07-01 03:09:44+00:00     3.5   \n",
       "9730 2020-07-01 03:09:12+00:00     5.0   \n",
       "9731 2020-07-01 02:40:58+00:00     4.0   \n",
       "9732 2020-07-01 02:04:02+00:00     5.0   \n",
       "9733 2020-07-01 00:01:34+00:00     2.0   \n",
       "\n",
       "                                                Comment  \n",
       "3065                                                NaN  \n",
       "3066                                                NaN  \n",
       "3067                                                NaN  \n",
       "3068                                                NaN  \n",
       "3069                                                NaN  \n",
       "...                                                 ...  \n",
       "9729                                                NaN  \n",
       "9730                                                NaN  \n",
       "9731                                                NaN  \n",
       "9732                                               nice  \n",
       "9733  Hard to follow if u have no experience program...  \n",
       "\n",
       "[6669 rows x 4 columns]"
      ]
     },
     "execution_count": 43,
     "metadata": {},
     "output_type": "execute_result"
    }
   ],
   "source": [
    "data[(data[\"Timestamp\"] > datetime(2020,7,1, tzinfo=utc )) & (data['Timestamp']< datetime(2020,12,31, tzinfo=utc ))]"
   ]
  },
  {
   "cell_type": "markdown",
   "id": "f30b9aa7",
   "metadata": {},
   "source": [
    "# 5. Turning data into information"
   ]
  },
  {
   "cell_type": "code",
   "execution_count": 44,
   "id": "f26a46a8",
   "metadata": {},
   "outputs": [
    {
     "data": {
      "text/plain": [
       "4.442155555555556"
      ]
     },
     "execution_count": 44,
     "metadata": {},
     "output_type": "execute_result"
    }
   ],
   "source": [
    "#Average rating\n",
    "data['Rating'].mean()"
   ]
  },
  {
   "cell_type": "code",
   "execution_count": 47,
   "id": "e5032661",
   "metadata": {},
   "outputs": [
    {
     "data": {
      "text/plain": [
       "4.623404255319149"
      ]
     },
     "execution_count": 47,
     "metadata": {},
     "output_type": "execute_result"
    }
   ],
   "source": [
    "#avg rating for a particular course\n",
    "data[data['Course Name']== 'The Complete Python Course: Build 10 Professional OOP Apps']['Rating'].mean()"
   ]
  },
  {
   "cell_type": "code",
   "execution_count": 49,
   "id": "da2043ff",
   "metadata": {},
   "outputs": [
    {
     "data": {
      "text/plain": [
       "4.499250262408157"
      ]
     },
     "execution_count": 49,
     "metadata": {},
     "output_type": "execute_result"
    }
   ],
   "source": [
    "# Average rting for a particular period\n",
    "data[(data[\"Timestamp\"] > datetime(2020,7,1, tzinfo=utc )) & (data['Timestamp']< datetime(2020,12,31, tzinfo=utc ))]['Rating'].mean()"
   ]
  },
  {
   "cell_type": "code",
   "execution_count": 52,
   "id": "0d88ca24",
   "metadata": {},
   "outputs": [
    {
     "ename": "SyntaxError",
     "evalue": "closing parenthesis ')' does not match opening parenthesis '[' (487439133.py, line 2)",
     "output_type": "error",
     "traceback": [
      "\u001b[0;36m  Input \u001b[0;32mIn [52]\u001b[0;36m\u001b[0m\n\u001b[0;31m    data[(data[\"Timestamp\"] > datetime(2020,7,1, tzinfo=utc )) & (data['Timestamp']< datetime(2020,12,31, tzinfo=utc )& (data[data['Course Name']== 'The Complete Python Course: Build 10 Professional OOP Apps'))]['Rating'].mean()\u001b[0m\n\u001b[0m                                                                                                                                                                                                                ^\u001b[0m\n\u001b[0;31mSyntaxError\u001b[0m\u001b[0;31m:\u001b[0m closing parenthesis ')' does not match opening parenthesis '['\n"
     ]
    }
   ],
   "source": [
    "#avg rating of a particular period for particular course\n",
    "data[(data[\"Timestamp\"] > datetime(2020,7,1, tzinfo=utc )) & (data['Timestamp']< datetime(2020,12,31, tzinfo=utc )& (data[data['Course Name']== 'The Complete Python Course: Build 10 Professional OOP Apps'))]['Rating'].mean()"
   ]
  },
  {
   "cell_type": "code",
   "execution_count": 54,
   "id": "a2a8a0bb",
   "metadata": {},
   "outputs": [
    {
     "data": {
      "text/plain": [
       "4.433679746603492"
      ]
     },
     "execution_count": 54,
     "metadata": {},
     "output_type": "execute_result"
    }
   ],
   "source": [
    "# average of uncommented ratings\n",
    "data[data['Comment'].isnull()]['Rating'].mean()"
   ]
  },
  {
   "cell_type": "code",
   "execution_count": 55,
   "id": "e0eb0877",
   "metadata": {},
   "outputs": [
    {
     "data": {
      "text/plain": [
       "4.489777908515959"
      ]
     },
     "execution_count": 55,
     "metadata": {},
     "output_type": "execute_result"
    }
   ],
   "source": [
    "# average of commented ratings\n",
    "data[data['Comment'].notnull()]['Rating'].mean()"
   ]
  },
  {
   "cell_type": "code",
   "execution_count": 56,
   "id": "f9661199",
   "metadata": {},
   "outputs": [
    {
     "data": {
      "text/plain": [
       "6799"
      ]
     },
     "execution_count": 56,
     "metadata": {},
     "output_type": "execute_result"
    }
   ],
   "source": [
    "# number of  commented ratings\n",
    "data[data['Comment'].notnull()]['Rating'].count()"
   ]
  },
  {
   "cell_type": "code",
   "execution_count": 57,
   "id": "af398190",
   "metadata": {},
   "outputs": [
    {
     "data": {
      "text/plain": [
       "38201"
      ]
     },
     "execution_count": 57,
     "metadata": {},
     "output_type": "execute_result"
    }
   ],
   "source": [
    "# number of  uncommented ratings\n",
    "data[data['Comment'].isnull()]['Rating'].count()"
   ]
  },
  {
   "cell_type": "code",
   "execution_count": 59,
   "id": "866eedf4",
   "metadata": {},
   "outputs": [
    {
     "data": {
      "text/html": [
       "<div>\n",
       "<style scoped>\n",
       "    .dataframe tbody tr th:only-of-type {\n",
       "        vertical-align: middle;\n",
       "    }\n",
       "\n",
       "    .dataframe tbody tr th {\n",
       "        vertical-align: top;\n",
       "    }\n",
       "\n",
       "    .dataframe thead th {\n",
       "        text-align: right;\n",
       "    }\n",
       "</style>\n",
       "<table border=\"1\" class=\"dataframe\">\n",
       "  <thead>\n",
       "    <tr style=\"text-align: right;\">\n",
       "      <th></th>\n",
       "      <th>Course Name</th>\n",
       "      <th>Timestamp</th>\n",
       "      <th>Rating</th>\n",
       "      <th>Comment</th>\n",
       "    </tr>\n",
       "  </thead>\n",
       "  <tbody>\n",
       "    <tr>\n",
       "      <th>2099</th>\n",
       "      <td>The Complete Python Course: Build 10 Professio...</td>\n",
       "      <td>2021-01-24 19:02:55+00:00</td>\n",
       "      <td>4.5</td>\n",
       "      <td>The course is great but because of the instruc...</td>\n",
       "    </tr>\n",
       "    <tr>\n",
       "      <th>3025</th>\n",
       "      <td>The Python Mega Course: Build 10 Real World Ap...</td>\n",
       "      <td>2021-01-01 14:46:21+00:00</td>\n",
       "      <td>2.5</td>\n",
       "      <td>Sometimes it is difficult to understand the in...</td>\n",
       "    </tr>\n",
       "    <tr>\n",
       "      <th>3477</th>\n",
       "      <td>The Python Mega Course: Build 10 Real World Ap...</td>\n",
       "      <td>2020-12-18 06:00:42+00:00</td>\n",
       "      <td>4.5</td>\n",
       "      <td>A little trouble at first with the accent, but...</td>\n",
       "    </tr>\n",
       "    <tr>\n",
       "      <th>3754</th>\n",
       "      <td>The Python Mega Course: Build 10 Real World Ap...</td>\n",
       "      <td>2020-12-08 13:42:00+00:00</td>\n",
       "      <td>5.0</td>\n",
       "      <td>I was looking for some time for the good Pytho...</td>\n",
       "    </tr>\n",
       "    <tr>\n",
       "      <th>4690</th>\n",
       "      <td>Learn GIS in One Hour</td>\n",
       "      <td>2020-11-11 17:23:12+00:00</td>\n",
       "      <td>5.0</td>\n",
       "      <td>I am having trouble seeing the video and he is...</td>\n",
       "    </tr>\n",
       "    <tr>\n",
       "      <th>...</th>\n",
       "      <td>...</td>\n",
       "      <td>...</td>\n",
       "      <td>...</td>\n",
       "      <td>...</td>\n",
       "    </tr>\n",
       "    <tr>\n",
       "      <th>43785</th>\n",
       "      <td>Python for Beginners with Examples</td>\n",
       "      <td>2018-01-26 09:19:40+00:00</td>\n",
       "      <td>4.0</td>\n",
       "      <td>Please find the English review below!\\n\\nDiese...</td>\n",
       "    </tr>\n",
       "    <tr>\n",
       "      <th>44040</th>\n",
       "      <td>The Python Mega Course: Build 10 Real World Ap...</td>\n",
       "      <td>2018-01-20 01:06:54+00:00</td>\n",
       "      <td>5.0</td>\n",
       "      <td>HIGHLY RECOMMEND THIS COURSE! BUT PLEASE READ ...</td>\n",
       "    </tr>\n",
       "    <tr>\n",
       "      <th>44471</th>\n",
       "      <td>Learn GIS in One Hour</td>\n",
       "      <td>2018-01-11 11:11:12+00:00</td>\n",
       "      <td>4.5</td>\n",
       "      <td>This is a really nice course for beginners who...</td>\n",
       "    </tr>\n",
       "    <tr>\n",
       "      <th>44483</th>\n",
       "      <td>The Python Mega Course: Build 10 Real World Ap...</td>\n",
       "      <td>2018-01-11 05:06:48+00:00</td>\n",
       "      <td>3.0</td>\n",
       "      <td>Speakers accent was a bit difficult for me to ...</td>\n",
       "    </tr>\n",
       "    <tr>\n",
       "      <th>44617</th>\n",
       "      <td>The Python Mega Course: Build 10 Real World Ap...</td>\n",
       "      <td>2018-01-08 18:39:34+00:00</td>\n",
       "      <td>5.0</td>\n",
       "      <td>First course that actually covers everything y...</td>\n",
       "    </tr>\n",
       "  </tbody>\n",
       "</table>\n",
       "<p>77 rows × 4 columns</p>\n",
       "</div>"
      ],
      "text/plain": [
       "                                             Course Name  \\\n",
       "2099   The Complete Python Course: Build 10 Professio...   \n",
       "3025   The Python Mega Course: Build 10 Real World Ap...   \n",
       "3477   The Python Mega Course: Build 10 Real World Ap...   \n",
       "3754   The Python Mega Course: Build 10 Real World Ap...   \n",
       "4690                               Learn GIS in One Hour   \n",
       "...                                                  ...   \n",
       "43785                 Python for Beginners with Examples   \n",
       "44040  The Python Mega Course: Build 10 Real World Ap...   \n",
       "44471                              Learn GIS in One Hour   \n",
       "44483  The Python Mega Course: Build 10 Real World Ap...   \n",
       "44617  The Python Mega Course: Build 10 Real World Ap...   \n",
       "\n",
       "                      Timestamp  Rating  \\\n",
       "2099  2021-01-24 19:02:55+00:00     4.5   \n",
       "3025  2021-01-01 14:46:21+00:00     2.5   \n",
       "3477  2020-12-18 06:00:42+00:00     4.5   \n",
       "3754  2020-12-08 13:42:00+00:00     5.0   \n",
       "4690  2020-11-11 17:23:12+00:00     5.0   \n",
       "...                         ...     ...   \n",
       "43785 2018-01-26 09:19:40+00:00     4.0   \n",
       "44040 2018-01-20 01:06:54+00:00     5.0   \n",
       "44471 2018-01-11 11:11:12+00:00     4.5   \n",
       "44483 2018-01-11 05:06:48+00:00     3.0   \n",
       "44617 2018-01-08 18:39:34+00:00     5.0   \n",
       "\n",
       "                                                 Comment  \n",
       "2099   The course is great but because of the instruc...  \n",
       "3025   Sometimes it is difficult to understand the in...  \n",
       "3477   A little trouble at first with the accent, but...  \n",
       "3754   I was looking for some time for the good Pytho...  \n",
       "4690   I am having trouble seeing the video and he is...  \n",
       "...                                                  ...  \n",
       "43785  Please find the English review below!\\n\\nDiese...  \n",
       "44040  HIGHLY RECOMMEND THIS COURSE! BUT PLEASE READ ...  \n",
       "44471  This is a really nice course for beginners who...  \n",
       "44483  Speakers accent was a bit difficult for me to ...  \n",
       "44617  First course that actually covers everything y...  \n",
       "\n",
       "[77 rows x 4 columns]"
      ]
     },
     "execution_count": 59,
     "metadata": {},
     "output_type": "execute_result"
    }
   ],
   "source": [
    "#no of cmts certain certin words\n",
    "data[data['Comment'].str.contains('accent', na=False)]"
   ]
  },
  {
   "cell_type": "code",
   "execution_count": 61,
   "id": "fb57dd21",
   "metadata": {},
   "outputs": [
    {
     "data": {
      "text/plain": [
       "77"
      ]
     },
     "execution_count": 61,
     "metadata": {},
     "output_type": "execute_result"
    }
   ],
   "source": [
    "#no of cmts certain certin words\n",
    "data[data['Comment'].str.contains('accent', na=False)]['Rating'].count()"
   ]
  },
  {
   "cell_type": "code",
   "execution_count": 62,
   "id": "585f292f",
   "metadata": {},
   "outputs": [
    {
     "data": {
      "text/plain": [
       "3.8636363636363638"
      ]
     },
     "execution_count": 62,
     "metadata": {},
     "output_type": "execute_result"
    }
   ],
   "source": [
    "#no of cmts certain certin words average\n",
    "data[data['Comment'].str.contains('accent', na=False)]['Rating'].mean()"
   ]
  },
  {
   "cell_type": "code",
   "execution_count": null,
   "id": "58c30339",
   "metadata": {},
   "outputs": [],
   "source": []
  },
  {
   "cell_type": "code",
   "execution_count": null,
   "id": "4ed32007",
   "metadata": {},
   "outputs": [],
   "source": []
  },
  {
   "cell_type": "code",
   "execution_count": null,
   "id": "1b88f31c",
   "metadata": {},
   "outputs": [],
   "source": []
  },
  {
   "cell_type": "code",
   "execution_count": null,
   "id": "545b72c6",
   "metadata": {},
   "outputs": [],
   "source": []
  },
  {
   "cell_type": "code",
   "execution_count": null,
   "id": "aa52185c",
   "metadata": {},
   "outputs": [],
   "source": []
  },
  {
   "cell_type": "code",
   "execution_count": null,
   "id": "2b4b4b6b",
   "metadata": {},
   "outputs": [],
   "source": []
  },
  {
   "cell_type": "code",
   "execution_count": null,
   "id": "044c6c6c",
   "metadata": {},
   "outputs": [],
   "source": []
  },
  {
   "cell_type": "code",
   "execution_count": null,
   "id": "a25e130f",
   "metadata": {},
   "outputs": [],
   "source": []
  }
 ],
 "metadata": {
  "kernelspec": {
   "display_name": "Python 3 (ipykernel)",
   "language": "python",
   "name": "python3"
  },
  "language_info": {
   "codemirror_mode": {
    "name": "ipython",
    "version": 3
   },
   "file_extension": ".py",
   "mimetype": "text/x-python",
   "name": "python",
   "nbconvert_exporter": "python",
   "pygments_lexer": "ipython3",
   "version": "3.9.12"
  }
 },
 "nbformat": 4,
 "nbformat_minor": 5
}
